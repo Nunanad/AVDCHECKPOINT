{
  "nbformat": 4,
  "nbformat_minor": 0,
  "metadata": {
    "colab": {
      "provenance": []
    },
    "kernelspec": {
      "name": "python3",
      "display_name": "Python 3"
    },
    "language_info": {
      "name": "python"
    }
  },
  "cells": [
    {
      "cell_type": "markdown",
      "source": [
        "# **CHECKPOINT 3**"
      ],
      "metadata": {
        "id": "MiQRde4PI-oF"
      }
    },
    {
      "cell_type": "markdown",
      "source": [
        "Data Source : https://www.kaggle.com/datasets/sujalsuthar/food-delivery-order-history-data\n",
        "\n",
        "Judul Data : Food Delivery Order History Data"
      ],
      "metadata": {
        "id": "lCRTcc7tLR_r"
      }
    },
    {
      "cell_type": "markdown",
      "source": [
        "## **Matplotlib & Seaborn**"
      ],
      "metadata": {
        "id": "QTBYN7lbL8P9"
      }
    },
    {
      "cell_type": "markdown",
      "source": [
        "Pertama tama kita perlu mengimport modul python yang kita perlukan pada checkpoint kali ini saya menginport matplotlib dan seaborn"
      ],
      "metadata": {
        "id": "X8wDlbIu25E2"
      }
    },
    {
      "cell_type": "code",
      "source": [
        "import pandas as pd\n",
        "import matplotlib.pyplot as plt\n",
        "import seaborn as sns"
      ],
      "metadata": {
        "id": "bVL97x8FurEp"
      },
      "execution_count": 3,
      "outputs": []
    },
    {
      "cell_type": "markdown",
      "source": [
        "lakukan read file agar file dataset bisa terbaca"
      ],
      "metadata": {
        "id": "TRwsGb-Y3lKn"
      }
    },
    {
      "cell_type": "code",
      "source": [
        "filename = list(uploaded.keys())[0]\n",
        "df = pd.read_csv(\"/content/archive (2).zip\")"
      ],
      "metadata": {
        "id": "huZPd20Fzgzp"
      },
      "execution_count": 8,
      "outputs": []
    },
    {
      "cell_type": "code",
      "source": [
        "df"
      ],
      "metadata": {
        "colab": {
          "base_uri": "https://localhost:8080/",
          "height": 1000
        },
        "id": "meWjxxMbzoVi",
        "outputId": "9f3b66ff-c016-414e-92f3-b77342b882a3"
      },
      "execution_count": 9,
      "outputs": [
        {
          "output_type": "execute_result",
          "data": {
            "text/plain": [
              "       Restaurant ID       Restaurant name            Subzone       City  \\\n",
              "0           20320607                 Swaad           Sector 4  Delhi NCR   \n",
              "1           20320607                 Swaad           Sector 4  Delhi NCR   \n",
              "2           20320607                 Swaad           Sector 4  Delhi NCR   \n",
              "3           20320607                 Swaad           Sector 4  Delhi NCR   \n",
              "4           20320607                 Swaad           Sector 4  Delhi NCR   \n",
              "...              ...                   ...                ...        ...   \n",
              "21316       21467440  The Chicken Junction  Chittaranjan Park  Delhi NCR   \n",
              "21317       21467440  The Chicken Junction  Chittaranjan Park  Delhi NCR   \n",
              "21318       21523055       Masala Junction           Sector 4  Delhi NCR   \n",
              "21319       21523055       Masala Junction           Sector 4  Delhi NCR   \n",
              "21320       21523055       Masala Junction           Sector 4  Delhi NCR   \n",
              "\n",
              "         Order ID              Order Placed At Order Status         Delivery  \\\n",
              "0      6168884918  11:38 PM, September 10 2024    Delivered  Zomato Delivery   \n",
              "1      6170707559  11:34 PM, September 10 2024    Delivered  Zomato Delivery   \n",
              "2      6169375019  03:52 PM, September 10 2024    Delivered  Zomato Delivery   \n",
              "3      6151677434  03:45 PM, September 10 2024    Delivered  Zomato Delivery   \n",
              "4      6167540897  03:04 PM, September 10 2024    Delivered  Zomato Delivery   \n",
              "...           ...                          ...          ...              ...   \n",
              "21316  6568490993    03:26 AM, January 30 2025    Delivered  Zomato Delivery   \n",
              "21317  6564842673    02:44 AM, January 29 2025    Delivered  Zomato Delivery   \n",
              "21318  6553527557    10:05 PM, January 24 2025    Delivered  Zomato Delivery   \n",
              "21319  6541170157    02:27 PM, January 21 2025    Delivered  Zomato Delivery   \n",
              "21320  6543973010    02:55 AM, January 21 2025    Delivered  Zomato Delivery   \n",
              "\n",
              "      Distance                                     Items in order  ... Rating  \\\n",
              "0          3km  1 x Grilled Chicken Jamaican Tender, 1 x Grill...  ...    NaN   \n",
              "1          2km  1 x Peri Peri Fries, 1 x Fried Chicken Angara ...  ...    NaN   \n",
              "2         <1km              1 x Bone in Peri Peri Grilled Chicken  ...    NaN   \n",
              "3          2km  1 x Fried Chicken Ghostbuster Tender, 1 x Anga...  ...    4.0   \n",
              "4          2km  1 x Peri Peri Krispers, 1 x Fried Chicken Anga...  ...    NaN   \n",
              "...        ...                                                ...  ...    ...   \n",
              "21316      5km      1 x Fried Chicken Desi Peri Peri Bites (Bone)  ...    NaN   \n",
              "21317      5km         1 x Fried Chicken 65 Masala Boneless Bites  ...    NaN   \n",
              "21318      8km                    1 x Korean Fried Chicken Slider  ...    5.0   \n",
              "21319      9km                                1 x Ooh Saucy Fries  ...    4.0   \n",
              "21320      3km                1 x Grilled Chicken Jamaican Slider  ...    NaN   \n",
              "\n",
              "                                                  Review  \\\n",
              "0                                                    NaN   \n",
              "1                                                    NaN   \n",
              "2                                                    NaN   \n",
              "3                                                    NaN   \n",
              "4                                                    NaN   \n",
              "...                                                  ...   \n",
              "21316                                                NaN   \n",
              "21317                                                NaN   \n",
              "21318  Yummy food! Delicious food! Lip smacking food!...   \n",
              "21319  The peri peri fries were truly so tasty and de...   \n",
              "21320                                                NaN   \n",
              "\n",
              "       Cancellation / Rejection reason  \\\n",
              "0                                  NaN   \n",
              "1                                  NaN   \n",
              "2                                  NaN   \n",
              "3                                  NaN   \n",
              "4                                  NaN   \n",
              "...                                ...   \n",
              "21316                              NaN   \n",
              "21317                              NaN   \n",
              "21318                              NaN   \n",
              "21319                              NaN   \n",
              "21320                              NaN   \n",
              "\n",
              "       Restaurant compensation (Cancellation)  Restaurant penalty (Rejection)  \\\n",
              "0                                         NaN                             NaN   \n",
              "1                                         NaN                             NaN   \n",
              "2                                         NaN                             NaN   \n",
              "3                                         NaN                             NaN   \n",
              "4                                         NaN                             NaN   \n",
              "...                                       ...                             ...   \n",
              "21316                                     NaN                             NaN   \n",
              "21317                                     NaN                             NaN   \n",
              "21318                                     NaN                             NaN   \n",
              "21319                                     NaN                             NaN   \n",
              "21320                                     NaN                             NaN   \n",
              "\n",
              "       KPT duration (minutes)  Rider wait time (minutes)  Order Ready Marked  \\\n",
              "0                       18.35                       11.6           Correctly   \n",
              "1                       16.95                        3.6           Correctly   \n",
              "2                       14.05                       12.2           Correctly   \n",
              "3                       19.00                        3.3           Correctly   \n",
              "4                       15.97                        1.0           Correctly   \n",
              "...                       ...                        ...                 ...   \n",
              "21316                   14.32                        9.0           Correctly   \n",
              "21317                     NaN                       10.8              Missed   \n",
              "21318                   16.27                        9.4         Incorrectly   \n",
              "21319                   12.77                        1.3           Correctly   \n",
              "21320                   16.52                        8.7           Correctly   \n",
              "\n",
              "        Customer complaint tag  \\\n",
              "0                          NaN   \n",
              "1                          NaN   \n",
              "2                          NaN   \n",
              "3                          NaN   \n",
              "4                          NaN   \n",
              "...                        ...   \n",
              "21316  Wrong item(s) delivered   \n",
              "21317                      NaN   \n",
              "21318                      NaN   \n",
              "21319                      NaN   \n",
              "21320                      NaN   \n",
              "\n",
              "                                             Customer ID  \n",
              "0      5d6c2b96db963098bc69768bea504c8bf46106a8a5178e...  \n",
              "1      0781815deb4a10a574e9fee4fa0b86b074d4a0b36175d5...  \n",
              "2      f93362f5ce5382657482d164e368186bcec9c6225fd93d...  \n",
              "3      1ed226d1b8a5f7acee12fc1d6676558330a3b2b742af5d...  \n",
              "4      d21a2ac6ea06b31cc3288ab20c4ef2f292066c096f2c5f...  \n",
              "...                                                  ...  \n",
              "21316  c6ee80eb35f2ef1630fd93ea88f8c0ac27eff57229a6d5...  \n",
              "21317  d2a0153ba6512894c1bebe974f6898ba10df50abc2c954...  \n",
              "21318  0b6168cbaf96aa5a0ae6b46d19d83ec9cad0d9508d43d7...  \n",
              "21319  410b3e056e511e3423d9497c629ca897f91cace2a2a732...  \n",
              "21320  1f885b307de98a52c7b6f75a8813cc130e3049ad0be017...  \n",
              "\n",
              "[21321 rows x 29 columns]"
            ],
            "text/html": [
              "\n",
              "  <div id=\"df-dc0d6d95-65f9-46e3-93d6-eee85fdbc45d\" class=\"colab-df-container\">\n",
              "    <div>\n",
              "<style scoped>\n",
              "    .dataframe tbody tr th:only-of-type {\n",
              "        vertical-align: middle;\n",
              "    }\n",
              "\n",
              "    .dataframe tbody tr th {\n",
              "        vertical-align: top;\n",
              "    }\n",
              "\n",
              "    .dataframe thead th {\n",
              "        text-align: right;\n",
              "    }\n",
              "</style>\n",
              "<table border=\"1\" class=\"dataframe\">\n",
              "  <thead>\n",
              "    <tr style=\"text-align: right;\">\n",
              "      <th></th>\n",
              "      <th>Restaurant ID</th>\n",
              "      <th>Restaurant name</th>\n",
              "      <th>Subzone</th>\n",
              "      <th>City</th>\n",
              "      <th>Order ID</th>\n",
              "      <th>Order Placed At</th>\n",
              "      <th>Order Status</th>\n",
              "      <th>Delivery</th>\n",
              "      <th>Distance</th>\n",
              "      <th>Items in order</th>\n",
              "      <th>...</th>\n",
              "      <th>Rating</th>\n",
              "      <th>Review</th>\n",
              "      <th>Cancellation / Rejection reason</th>\n",
              "      <th>Restaurant compensation (Cancellation)</th>\n",
              "      <th>Restaurant penalty (Rejection)</th>\n",
              "      <th>KPT duration (minutes)</th>\n",
              "      <th>Rider wait time (minutes)</th>\n",
              "      <th>Order Ready Marked</th>\n",
              "      <th>Customer complaint tag</th>\n",
              "      <th>Customer ID</th>\n",
              "    </tr>\n",
              "  </thead>\n",
              "  <tbody>\n",
              "    <tr>\n",
              "      <th>0</th>\n",
              "      <td>20320607</td>\n",
              "      <td>Swaad</td>\n",
              "      <td>Sector 4</td>\n",
              "      <td>Delhi NCR</td>\n",
              "      <td>6168884918</td>\n",
              "      <td>11:38 PM, September 10 2024</td>\n",
              "      <td>Delivered</td>\n",
              "      <td>Zomato Delivery</td>\n",
              "      <td>3km</td>\n",
              "      <td>1 x Grilled Chicken Jamaican Tender, 1 x Grill...</td>\n",
              "      <td>...</td>\n",
              "      <td>NaN</td>\n",
              "      <td>NaN</td>\n",
              "      <td>NaN</td>\n",
              "      <td>NaN</td>\n",
              "      <td>NaN</td>\n",
              "      <td>18.35</td>\n",
              "      <td>11.6</td>\n",
              "      <td>Correctly</td>\n",
              "      <td>NaN</td>\n",
              "      <td>5d6c2b96db963098bc69768bea504c8bf46106a8a5178e...</td>\n",
              "    </tr>\n",
              "    <tr>\n",
              "      <th>1</th>\n",
              "      <td>20320607</td>\n",
              "      <td>Swaad</td>\n",
              "      <td>Sector 4</td>\n",
              "      <td>Delhi NCR</td>\n",
              "      <td>6170707559</td>\n",
              "      <td>11:34 PM, September 10 2024</td>\n",
              "      <td>Delivered</td>\n",
              "      <td>Zomato Delivery</td>\n",
              "      <td>2km</td>\n",
              "      <td>1 x Peri Peri Fries, 1 x Fried Chicken Angara ...</td>\n",
              "      <td>...</td>\n",
              "      <td>NaN</td>\n",
              "      <td>NaN</td>\n",
              "      <td>NaN</td>\n",
              "      <td>NaN</td>\n",
              "      <td>NaN</td>\n",
              "      <td>16.95</td>\n",
              "      <td>3.6</td>\n",
              "      <td>Correctly</td>\n",
              "      <td>NaN</td>\n",
              "      <td>0781815deb4a10a574e9fee4fa0b86b074d4a0b36175d5...</td>\n",
              "    </tr>\n",
              "    <tr>\n",
              "      <th>2</th>\n",
              "      <td>20320607</td>\n",
              "      <td>Swaad</td>\n",
              "      <td>Sector 4</td>\n",
              "      <td>Delhi NCR</td>\n",
              "      <td>6169375019</td>\n",
              "      <td>03:52 PM, September 10 2024</td>\n",
              "      <td>Delivered</td>\n",
              "      <td>Zomato Delivery</td>\n",
              "      <td>&lt;1km</td>\n",
              "      <td>1 x Bone in Peri Peri Grilled Chicken</td>\n",
              "      <td>...</td>\n",
              "      <td>NaN</td>\n",
              "      <td>NaN</td>\n",
              "      <td>NaN</td>\n",
              "      <td>NaN</td>\n",
              "      <td>NaN</td>\n",
              "      <td>14.05</td>\n",
              "      <td>12.2</td>\n",
              "      <td>Correctly</td>\n",
              "      <td>NaN</td>\n",
              "      <td>f93362f5ce5382657482d164e368186bcec9c6225fd93d...</td>\n",
              "    </tr>\n",
              "    <tr>\n",
              "      <th>3</th>\n",
              "      <td>20320607</td>\n",
              "      <td>Swaad</td>\n",
              "      <td>Sector 4</td>\n",
              "      <td>Delhi NCR</td>\n",
              "      <td>6151677434</td>\n",
              "      <td>03:45 PM, September 10 2024</td>\n",
              "      <td>Delivered</td>\n",
              "      <td>Zomato Delivery</td>\n",
              "      <td>2km</td>\n",
              "      <td>1 x Fried Chicken Ghostbuster Tender, 1 x Anga...</td>\n",
              "      <td>...</td>\n",
              "      <td>4.0</td>\n",
              "      <td>NaN</td>\n",
              "      <td>NaN</td>\n",
              "      <td>NaN</td>\n",
              "      <td>NaN</td>\n",
              "      <td>19.00</td>\n",
              "      <td>3.3</td>\n",
              "      <td>Correctly</td>\n",
              "      <td>NaN</td>\n",
              "      <td>1ed226d1b8a5f7acee12fc1d6676558330a3b2b742af5d...</td>\n",
              "    </tr>\n",
              "    <tr>\n",
              "      <th>4</th>\n",
              "      <td>20320607</td>\n",
              "      <td>Swaad</td>\n",
              "      <td>Sector 4</td>\n",
              "      <td>Delhi NCR</td>\n",
              "      <td>6167540897</td>\n",
              "      <td>03:04 PM, September 10 2024</td>\n",
              "      <td>Delivered</td>\n",
              "      <td>Zomato Delivery</td>\n",
              "      <td>2km</td>\n",
              "      <td>1 x Peri Peri Krispers, 1 x Fried Chicken Anga...</td>\n",
              "      <td>...</td>\n",
              "      <td>NaN</td>\n",
              "      <td>NaN</td>\n",
              "      <td>NaN</td>\n",
              "      <td>NaN</td>\n",
              "      <td>NaN</td>\n",
              "      <td>15.97</td>\n",
              "      <td>1.0</td>\n",
              "      <td>Correctly</td>\n",
              "      <td>NaN</td>\n",
              "      <td>d21a2ac6ea06b31cc3288ab20c4ef2f292066c096f2c5f...</td>\n",
              "    </tr>\n",
              "    <tr>\n",
              "      <th>...</th>\n",
              "      <td>...</td>\n",
              "      <td>...</td>\n",
              "      <td>...</td>\n",
              "      <td>...</td>\n",
              "      <td>...</td>\n",
              "      <td>...</td>\n",
              "      <td>...</td>\n",
              "      <td>...</td>\n",
              "      <td>...</td>\n",
              "      <td>...</td>\n",
              "      <td>...</td>\n",
              "      <td>...</td>\n",
              "      <td>...</td>\n",
              "      <td>...</td>\n",
              "      <td>...</td>\n",
              "      <td>...</td>\n",
              "      <td>...</td>\n",
              "      <td>...</td>\n",
              "      <td>...</td>\n",
              "      <td>...</td>\n",
              "      <td>...</td>\n",
              "    </tr>\n",
              "    <tr>\n",
              "      <th>21316</th>\n",
              "      <td>21467440</td>\n",
              "      <td>The Chicken Junction</td>\n",
              "      <td>Chittaranjan Park</td>\n",
              "      <td>Delhi NCR</td>\n",
              "      <td>6568490993</td>\n",
              "      <td>03:26 AM, January 30 2025</td>\n",
              "      <td>Delivered</td>\n",
              "      <td>Zomato Delivery</td>\n",
              "      <td>5km</td>\n",
              "      <td>1 x Fried Chicken Desi Peri Peri Bites (Bone)</td>\n",
              "      <td>...</td>\n",
              "      <td>NaN</td>\n",
              "      <td>NaN</td>\n",
              "      <td>NaN</td>\n",
              "      <td>NaN</td>\n",
              "      <td>NaN</td>\n",
              "      <td>14.32</td>\n",
              "      <td>9.0</td>\n",
              "      <td>Correctly</td>\n",
              "      <td>Wrong item(s) delivered</td>\n",
              "      <td>c6ee80eb35f2ef1630fd93ea88f8c0ac27eff57229a6d5...</td>\n",
              "    </tr>\n",
              "    <tr>\n",
              "      <th>21317</th>\n",
              "      <td>21467440</td>\n",
              "      <td>The Chicken Junction</td>\n",
              "      <td>Chittaranjan Park</td>\n",
              "      <td>Delhi NCR</td>\n",
              "      <td>6564842673</td>\n",
              "      <td>02:44 AM, January 29 2025</td>\n",
              "      <td>Delivered</td>\n",
              "      <td>Zomato Delivery</td>\n",
              "      <td>5km</td>\n",
              "      <td>1 x Fried Chicken 65 Masala Boneless Bites</td>\n",
              "      <td>...</td>\n",
              "      <td>NaN</td>\n",
              "      <td>NaN</td>\n",
              "      <td>NaN</td>\n",
              "      <td>NaN</td>\n",
              "      <td>NaN</td>\n",
              "      <td>NaN</td>\n",
              "      <td>10.8</td>\n",
              "      <td>Missed</td>\n",
              "      <td>NaN</td>\n",
              "      <td>d2a0153ba6512894c1bebe974f6898ba10df50abc2c954...</td>\n",
              "    </tr>\n",
              "    <tr>\n",
              "      <th>21318</th>\n",
              "      <td>21523055</td>\n",
              "      <td>Masala Junction</td>\n",
              "      <td>Sector 4</td>\n",
              "      <td>Delhi NCR</td>\n",
              "      <td>6553527557</td>\n",
              "      <td>10:05 PM, January 24 2025</td>\n",
              "      <td>Delivered</td>\n",
              "      <td>Zomato Delivery</td>\n",
              "      <td>8km</td>\n",
              "      <td>1 x Korean Fried Chicken Slider</td>\n",
              "      <td>...</td>\n",
              "      <td>5.0</td>\n",
              "      <td>Yummy food! Delicious food! Lip smacking food!...</td>\n",
              "      <td>NaN</td>\n",
              "      <td>NaN</td>\n",
              "      <td>NaN</td>\n",
              "      <td>16.27</td>\n",
              "      <td>9.4</td>\n",
              "      <td>Incorrectly</td>\n",
              "      <td>NaN</td>\n",
              "      <td>0b6168cbaf96aa5a0ae6b46d19d83ec9cad0d9508d43d7...</td>\n",
              "    </tr>\n",
              "    <tr>\n",
              "      <th>21319</th>\n",
              "      <td>21523055</td>\n",
              "      <td>Masala Junction</td>\n",
              "      <td>Sector 4</td>\n",
              "      <td>Delhi NCR</td>\n",
              "      <td>6541170157</td>\n",
              "      <td>02:27 PM, January 21 2025</td>\n",
              "      <td>Delivered</td>\n",
              "      <td>Zomato Delivery</td>\n",
              "      <td>9km</td>\n",
              "      <td>1 x Ooh Saucy Fries</td>\n",
              "      <td>...</td>\n",
              "      <td>4.0</td>\n",
              "      <td>The peri peri fries were truly so tasty and de...</td>\n",
              "      <td>NaN</td>\n",
              "      <td>NaN</td>\n",
              "      <td>NaN</td>\n",
              "      <td>12.77</td>\n",
              "      <td>1.3</td>\n",
              "      <td>Correctly</td>\n",
              "      <td>NaN</td>\n",
              "      <td>410b3e056e511e3423d9497c629ca897f91cace2a2a732...</td>\n",
              "    </tr>\n",
              "    <tr>\n",
              "      <th>21320</th>\n",
              "      <td>21523055</td>\n",
              "      <td>Masala Junction</td>\n",
              "      <td>Sector 4</td>\n",
              "      <td>Delhi NCR</td>\n",
              "      <td>6543973010</td>\n",
              "      <td>02:55 AM, January 21 2025</td>\n",
              "      <td>Delivered</td>\n",
              "      <td>Zomato Delivery</td>\n",
              "      <td>3km</td>\n",
              "      <td>1 x Grilled Chicken Jamaican Slider</td>\n",
              "      <td>...</td>\n",
              "      <td>NaN</td>\n",
              "      <td>NaN</td>\n",
              "      <td>NaN</td>\n",
              "      <td>NaN</td>\n",
              "      <td>NaN</td>\n",
              "      <td>16.52</td>\n",
              "      <td>8.7</td>\n",
              "      <td>Correctly</td>\n",
              "      <td>NaN</td>\n",
              "      <td>1f885b307de98a52c7b6f75a8813cc130e3049ad0be017...</td>\n",
              "    </tr>\n",
              "  </tbody>\n",
              "</table>\n",
              "<p>21321 rows × 29 columns</p>\n",
              "</div>\n",
              "    <div class=\"colab-df-buttons\">\n",
              "\n",
              "  <div class=\"colab-df-container\">\n",
              "    <button class=\"colab-df-convert\" onclick=\"convertToInteractive('df-dc0d6d95-65f9-46e3-93d6-eee85fdbc45d')\"\n",
              "            title=\"Convert this dataframe to an interactive table.\"\n",
              "            style=\"display:none;\">\n",
              "\n",
              "  <svg xmlns=\"http://www.w3.org/2000/svg\" height=\"24px\" viewBox=\"0 -960 960 960\">\n",
              "    <path d=\"M120-120v-720h720v720H120Zm60-500h600v-160H180v160Zm220 220h160v-160H400v160Zm0 220h160v-160H400v160ZM180-400h160v-160H180v160Zm440 0h160v-160H620v160ZM180-180h160v-160H180v160Zm440 0h160v-160H620v160Z\"/>\n",
              "  </svg>\n",
              "    </button>\n",
              "\n",
              "  <style>\n",
              "    .colab-df-container {\n",
              "      display:flex;\n",
              "      gap: 12px;\n",
              "    }\n",
              "\n",
              "    .colab-df-convert {\n",
              "      background-color: #E8F0FE;\n",
              "      border: none;\n",
              "      border-radius: 50%;\n",
              "      cursor: pointer;\n",
              "      display: none;\n",
              "      fill: #1967D2;\n",
              "      height: 32px;\n",
              "      padding: 0 0 0 0;\n",
              "      width: 32px;\n",
              "    }\n",
              "\n",
              "    .colab-df-convert:hover {\n",
              "      background-color: #E2EBFA;\n",
              "      box-shadow: 0px 1px 2px rgba(60, 64, 67, 0.3), 0px 1px 3px 1px rgba(60, 64, 67, 0.15);\n",
              "      fill: #174EA6;\n",
              "    }\n",
              "\n",
              "    .colab-df-buttons div {\n",
              "      margin-bottom: 4px;\n",
              "    }\n",
              "\n",
              "    [theme=dark] .colab-df-convert {\n",
              "      background-color: #3B4455;\n",
              "      fill: #D2E3FC;\n",
              "    }\n",
              "\n",
              "    [theme=dark] .colab-df-convert:hover {\n",
              "      background-color: #434B5C;\n",
              "      box-shadow: 0px 1px 3px 1px rgba(0, 0, 0, 0.15);\n",
              "      filter: drop-shadow(0px 1px 2px rgba(0, 0, 0, 0.3));\n",
              "      fill: #FFFFFF;\n",
              "    }\n",
              "  </style>\n",
              "\n",
              "    <script>\n",
              "      const buttonEl =\n",
              "        document.querySelector('#df-dc0d6d95-65f9-46e3-93d6-eee85fdbc45d button.colab-df-convert');\n",
              "      buttonEl.style.display =\n",
              "        google.colab.kernel.accessAllowed ? 'block' : 'none';\n",
              "\n",
              "      async function convertToInteractive(key) {\n",
              "        const element = document.querySelector('#df-dc0d6d95-65f9-46e3-93d6-eee85fdbc45d');\n",
              "        const dataTable =\n",
              "          await google.colab.kernel.invokeFunction('convertToInteractive',\n",
              "                                                    [key], {});\n",
              "        if (!dataTable) return;\n",
              "\n",
              "        const docLinkHtml = 'Like what you see? Visit the ' +\n",
              "          '<a target=\"_blank\" href=https://colab.research.google.com/notebooks/data_table.ipynb>data table notebook</a>'\n",
              "          + ' to learn more about interactive tables.';\n",
              "        element.innerHTML = '';\n",
              "        dataTable['output_type'] = 'display_data';\n",
              "        await google.colab.output.renderOutput(dataTable, element);\n",
              "        const docLink = document.createElement('div');\n",
              "        docLink.innerHTML = docLinkHtml;\n",
              "        element.appendChild(docLink);\n",
              "      }\n",
              "    </script>\n",
              "  </div>\n",
              "\n",
              "\n",
              "<div id=\"df-96c9e618-3996-4e9b-8040-0067506cb2eb\">\n",
              "  <button class=\"colab-df-quickchart\" onclick=\"quickchart('df-96c9e618-3996-4e9b-8040-0067506cb2eb')\"\n",
              "            title=\"Suggest charts\"\n",
              "            style=\"display:none;\">\n",
              "\n",
              "<svg xmlns=\"http://www.w3.org/2000/svg\" height=\"24px\"viewBox=\"0 0 24 24\"\n",
              "     width=\"24px\">\n",
              "    <g>\n",
              "        <path d=\"M19 3H5c-1.1 0-2 .9-2 2v14c0 1.1.9 2 2 2h14c1.1 0 2-.9 2-2V5c0-1.1-.9-2-2-2zM9 17H7v-7h2v7zm4 0h-2V7h2v10zm4 0h-2v-4h2v4z\"/>\n",
              "    </g>\n",
              "</svg>\n",
              "  </button>\n",
              "\n",
              "<style>\n",
              "  .colab-df-quickchart {\n",
              "      --bg-color: #E8F0FE;\n",
              "      --fill-color: #1967D2;\n",
              "      --hover-bg-color: #E2EBFA;\n",
              "      --hover-fill-color: #174EA6;\n",
              "      --disabled-fill-color: #AAA;\n",
              "      --disabled-bg-color: #DDD;\n",
              "  }\n",
              "\n",
              "  [theme=dark] .colab-df-quickchart {\n",
              "      --bg-color: #3B4455;\n",
              "      --fill-color: #D2E3FC;\n",
              "      --hover-bg-color: #434B5C;\n",
              "      --hover-fill-color: #FFFFFF;\n",
              "      --disabled-bg-color: #3B4455;\n",
              "      --disabled-fill-color: #666;\n",
              "  }\n",
              "\n",
              "  .colab-df-quickchart {\n",
              "    background-color: var(--bg-color);\n",
              "    border: none;\n",
              "    border-radius: 50%;\n",
              "    cursor: pointer;\n",
              "    display: none;\n",
              "    fill: var(--fill-color);\n",
              "    height: 32px;\n",
              "    padding: 0;\n",
              "    width: 32px;\n",
              "  }\n",
              "\n",
              "  .colab-df-quickchart:hover {\n",
              "    background-color: var(--hover-bg-color);\n",
              "    box-shadow: 0 1px 2px rgba(60, 64, 67, 0.3), 0 1px 3px 1px rgba(60, 64, 67, 0.15);\n",
              "    fill: var(--button-hover-fill-color);\n",
              "  }\n",
              "\n",
              "  .colab-df-quickchart-complete:disabled,\n",
              "  .colab-df-quickchart-complete:disabled:hover {\n",
              "    background-color: var(--disabled-bg-color);\n",
              "    fill: var(--disabled-fill-color);\n",
              "    box-shadow: none;\n",
              "  }\n",
              "\n",
              "  .colab-df-spinner {\n",
              "    border: 2px solid var(--fill-color);\n",
              "    border-color: transparent;\n",
              "    border-bottom-color: var(--fill-color);\n",
              "    animation:\n",
              "      spin 1s steps(1) infinite;\n",
              "  }\n",
              "\n",
              "  @keyframes spin {\n",
              "    0% {\n",
              "      border-color: transparent;\n",
              "      border-bottom-color: var(--fill-color);\n",
              "      border-left-color: var(--fill-color);\n",
              "    }\n",
              "    20% {\n",
              "      border-color: transparent;\n",
              "      border-left-color: var(--fill-color);\n",
              "      border-top-color: var(--fill-color);\n",
              "    }\n",
              "    30% {\n",
              "      border-color: transparent;\n",
              "      border-left-color: var(--fill-color);\n",
              "      border-top-color: var(--fill-color);\n",
              "      border-right-color: var(--fill-color);\n",
              "    }\n",
              "    40% {\n",
              "      border-color: transparent;\n",
              "      border-right-color: var(--fill-color);\n",
              "      border-top-color: var(--fill-color);\n",
              "    }\n",
              "    60% {\n",
              "      border-color: transparent;\n",
              "      border-right-color: var(--fill-color);\n",
              "    }\n",
              "    80% {\n",
              "      border-color: transparent;\n",
              "      border-right-color: var(--fill-color);\n",
              "      border-bottom-color: var(--fill-color);\n",
              "    }\n",
              "    90% {\n",
              "      border-color: transparent;\n",
              "      border-bottom-color: var(--fill-color);\n",
              "    }\n",
              "  }\n",
              "</style>\n",
              "\n",
              "  <script>\n",
              "    async function quickchart(key) {\n",
              "      const quickchartButtonEl =\n",
              "        document.querySelector('#' + key + ' button');\n",
              "      quickchartButtonEl.disabled = true;  // To prevent multiple clicks.\n",
              "      quickchartButtonEl.classList.add('colab-df-spinner');\n",
              "      try {\n",
              "        const charts = await google.colab.kernel.invokeFunction(\n",
              "            'suggestCharts', [key], {});\n",
              "      } catch (error) {\n",
              "        console.error('Error during call to suggestCharts:', error);\n",
              "      }\n",
              "      quickchartButtonEl.classList.remove('colab-df-spinner');\n",
              "      quickchartButtonEl.classList.add('colab-df-quickchart-complete');\n",
              "    }\n",
              "    (() => {\n",
              "      let quickchartButtonEl =\n",
              "        document.querySelector('#df-96c9e618-3996-4e9b-8040-0067506cb2eb button');\n",
              "      quickchartButtonEl.style.display =\n",
              "        google.colab.kernel.accessAllowed ? 'block' : 'none';\n",
              "    })();\n",
              "  </script>\n",
              "</div>\n",
              "\n",
              "  <div id=\"id_3d9c260f-b211-4c12-a294-e8053fccef14\">\n",
              "    <style>\n",
              "      .colab-df-generate {\n",
              "        background-color: #E8F0FE;\n",
              "        border: none;\n",
              "        border-radius: 50%;\n",
              "        cursor: pointer;\n",
              "        display: none;\n",
              "        fill: #1967D2;\n",
              "        height: 32px;\n",
              "        padding: 0 0 0 0;\n",
              "        width: 32px;\n",
              "      }\n",
              "\n",
              "      .colab-df-generate:hover {\n",
              "        background-color: #E2EBFA;\n",
              "        box-shadow: 0px 1px 2px rgba(60, 64, 67, 0.3), 0px 1px 3px 1px rgba(60, 64, 67, 0.15);\n",
              "        fill: #174EA6;\n",
              "      }\n",
              "\n",
              "      [theme=dark] .colab-df-generate {\n",
              "        background-color: #3B4455;\n",
              "        fill: #D2E3FC;\n",
              "      }\n",
              "\n",
              "      [theme=dark] .colab-df-generate:hover {\n",
              "        background-color: #434B5C;\n",
              "        box-shadow: 0px 1px 3px 1px rgba(0, 0, 0, 0.15);\n",
              "        filter: drop-shadow(0px 1px 2px rgba(0, 0, 0, 0.3));\n",
              "        fill: #FFFFFF;\n",
              "      }\n",
              "    </style>\n",
              "    <button class=\"colab-df-generate\" onclick=\"generateWithVariable('df')\"\n",
              "            title=\"Generate code using this dataframe.\"\n",
              "            style=\"display:none;\">\n",
              "\n",
              "  <svg xmlns=\"http://www.w3.org/2000/svg\" height=\"24px\"viewBox=\"0 0 24 24\"\n",
              "       width=\"24px\">\n",
              "    <path d=\"M7,19H8.4L18.45,9,17,7.55,7,17.6ZM5,21V16.75L18.45,3.32a2,2,0,0,1,2.83,0l1.4,1.43a1.91,1.91,0,0,1,.58,1.4,1.91,1.91,0,0,1-.58,1.4L9.25,21ZM18.45,9,17,7.55Zm-12,3A5.31,5.31,0,0,0,4.9,8.1,5.31,5.31,0,0,0,1,6.5,5.31,5.31,0,0,0,4.9,4.9,5.31,5.31,0,0,0,6.5,1,5.31,5.31,0,0,0,8.1,4.9,5.31,5.31,0,0,0,12,6.5,5.46,5.46,0,0,0,6.5,12Z\"/>\n",
              "  </svg>\n",
              "    </button>\n",
              "    <script>\n",
              "      (() => {\n",
              "      const buttonEl =\n",
              "        document.querySelector('#id_3d9c260f-b211-4c12-a294-e8053fccef14 button.colab-df-generate');\n",
              "      buttonEl.style.display =\n",
              "        google.colab.kernel.accessAllowed ? 'block' : 'none';\n",
              "\n",
              "      buttonEl.onclick = () => {\n",
              "        google.colab.notebook.generateWithVariable('df');\n",
              "      }\n",
              "      })();\n",
              "    </script>\n",
              "  </div>\n",
              "\n",
              "    </div>\n",
              "  </div>\n"
            ],
            "application/vnd.google.colaboratory.intrinsic+json": {
              "type": "dataframe",
              "variable_name": "df"
            }
          },
          "metadata": {},
          "execution_count": 9
        }
      ]
    },
    {
      "cell_type": "markdown",
      "source": [
        "Berdasarkan studi kasus yang saya analisis, kini saya ingin mengetahui hubungan jarak pengiriman dan waktu tunggu dalam bentuk visualisasi sehingga saya membuat grafik scatter plot , disini saya membuat data baru yaitu items in order"
      ],
      "metadata": {
        "id": "uK0OirPy4IIo"
      }
    },
    {
      "cell_type": "code",
      "source": [
        "df[\"Items Count\"] = df[\"Items in order\"].fillna(\"\").apply(lambda x: len(x.split(',')))\n"
      ],
      "metadata": {
        "id": "XZhHeqMLzqb_"
      },
      "execution_count": 35,
      "outputs": []
    },
    {
      "cell_type": "markdown",
      "source": [
        "Disini saya mengubah tipe data ke bentuk numerik"
      ],
      "metadata": {
        "id": "HIm-YtOzLh48"
      }
    },
    {
      "cell_type": "code",
      "source": [
        "df[\"KPT duration (minutes)\"] = pd.to_numeric(df[\"KPT duration (minutes)\"], errors='coerce')"
      ],
      "metadata": {
        "id": "lSaaWfnxLgFf"
      },
      "execution_count": 36,
      "outputs": []
    },
    {
      "cell_type": "markdown",
      "source": [
        "Pada bagian ini saya menghapus data kosong yang terdapat di bagian yang ingin saya gunakan sehingga data yang dihasilkan valid"
      ],
      "metadata": {
        "id": "gYxtOamCEQPn"
      }
    },
    {
      "cell_type": "code",
      "source": [
        "df_clean = df.dropna(subset=[\"Distance\", \"KPT duration (minutes)\"])"
      ],
      "metadata": {
        "id": "wTeYBZ4rz-Q7"
      },
      "execution_count": 13,
      "outputs": []
    },
    {
      "cell_type": "markdown",
      "source": [
        "Selanjutnya saya memvisualisasikan data sesuai studi kasus saya yang ingin saya ketahui dan ini adalah bentuk grafik scatter plot dari jumlah item dan waktu pemrosesan"
      ],
      "metadata": {
        "id": "g_daGPVkLyK8"
      }
    },
    {
      "cell_type": "code",
      "source": [
        "plt.figure(figsize=(8, 5))\n",
        "sns.scatterplot(x=df_clean[\"Items Count\"], y=df_clean[\"KPT duration (minutes)\"], alpha=0.5, color=\"blue\")\n",
        "plt.xlabel(\"Jumlah Item dalam Pesanan\")\n",
        "plt.ylabel(\"Waktu Pemrosesan (menit)\")\n",
        "plt.title(\"Jumlah Item vs Waktu Pemrosesan\")\n",
        "plt.show()\n"
      ],
      "metadata": {
        "colab": {
          "base_uri": "https://localhost:8080/",
          "height": 487
        },
        "id": "_TsXIFxQ0FO0",
        "outputId": "65932911-70fb-4708-9e98-919261f2e50f"
      },
      "execution_count": 38,
      "outputs": [
        {
          "output_type": "display_data",
          "data": {
            "text/plain": [
              "<Figure size 800x500 with 1 Axes>"
            ],
            "image/png": "[encoded data removed]"
          },
          "metadata": {}
        }
      ]
    },
    {
      "cell_type": "markdown",
      "source": [
        "Ini merupakan visualisasi dari jumlah item dan waktu pemrosesan yang menggunakan modul seaborn"
      ],
      "metadata": {
        "id": "xLlvKV8_MJ1y"
      }
    },
    {
      "cell_type": "markdown",
      "source": [
        "Kemudian saya ingin memvisualisasikan data 10 restoran teratas berdasarkan jumlah pemesanan. di bagian ini saya membuat"
      ],
      "metadata": {
        "id": "Ey5cyPCdF_u0"
      }
    },
    {
      "cell_type": "code",
      "source": [
        "df[\"Items Count\"] = df[\"Items in order\"].fillna(\"\").apply(lambda x: len(x.split(',')))"
      ],
      "metadata": {
        "id": "x6dmkS_d2jSb"
      },
      "execution_count": 22,
      "outputs": []
    },
    {
      "cell_type": "markdown",
      "source": [
        "Disini saya mengubah datatype kpt duration per menit ke bentuk numeric agar data dapat divisualisasikan dengan mudah"
      ],
      "metadata": {
        "id": "Lwj4-2MTI9MO"
      }
    },
    {
      "cell_type": "code",
      "source": [
        "df[\"KPT duration (minutes)\"] = pd.to_numeric(df[\"KPT duration (minutes)\"], errors='coerce')"
      ],
      "metadata": {
        "id": "n_HTGrkE2n9g"
      },
      "execution_count": 23,
      "outputs": []
    },
    {
      "cell_type": "markdown",
      "source": [
        "pada bagian ini saya menghapus kolom kosong pada bagian item count dan kpt duration"
      ],
      "metadata": {
        "id": "5ykVt5dJKV4z"
      }
    },
    {
      "cell_type": "code",
      "source": [
        "df_clean = df.dropna(subset=[\"Items Count\", \"KPT duration (minutes)\"])"
      ],
      "metadata": {
        "id": "6cddTtNk2sPg"
      },
      "execution_count": 24,
      "outputs": []
    },
    {
      "cell_type": "markdown",
      "source": [
        "selanjutnya saya mengatur agar table hanya menampilkan 10 restoran teratas"
      ],
      "metadata": {
        "id": "lApPd-KLJZO7"
      }
    },
    {
      "cell_type": "code",
      "source": [
        "top_restaurants = df[\"Restaurant name\"].value_counts().head(10)"
      ],
      "metadata": {
        "id": "xDe-F4gUCwUc"
      },
      "execution_count": 27,
      "outputs": []
    },
    {
      "cell_type": "markdown",
      "source": [
        "Lalu saya membuat bar chart karena bar chart adalah tipe yang paling kompatible untuk menampilkan top 10 restoran ter laris"
      ],
      "metadata": {
        "id": "qUUJPOQUJrOp"
      }
    },
    {
      "cell_type": "code",
      "source": [
        "plt.figure(figsize=(10, 5))\n",
        "top_restaurants.plot(kind='bar', color='blue')\n",
        "plt.xlabel(\"Restoran\")\n",
        "plt.ylabel(\"Jumlah Pesanan\")\n",
        "plt.title(\"10 Restoran dengan Jumlah Pesanan Tertinggi\")\n",
        "plt.xticks(rotation=45, ha='right')\n",
        "plt.grid(axis='y', linestyle='--', alpha=0.7)\n",
        "plt.show()"
      ],
      "metadata": {
        "colab": {
          "base_uri": "https://localhost:8080/",
          "height": 586
        },
        "id": "xJ_mgxS-DHua",
        "outputId": "7b45b9e3-740b-4e73-daf6-001b48aff26f"
      },
      "execution_count": 28,
      "outputs": [
        {
          "output_type": "display_data",
          "data": {
            "text/plain": [
              "<Figure size 1000x500 with 1 Axes>"
            ],
            "image/png": "[encoded data removed]"
          },
          "metadata": {}
        }
      ]
    },
    {
      "cell_type": "markdown",
      "source": [
        "Ini adalah bentuk visualisasi bar chart dari 10 restoran teratas berdasarkan jumlah pemesanan (terlaris) dengan menggunakan modul matplotlib"
      ],
      "metadata": {
        "id": "JzWen9iRKzbC"
      }
    }
  ]
}